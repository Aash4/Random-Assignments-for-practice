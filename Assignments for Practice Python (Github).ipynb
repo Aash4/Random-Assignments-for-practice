{
 "cells": [
  {
   "cell_type": "code",
   "execution_count": 10,
   "metadata": {},
   "outputs": [],
   "source": [
    "# Write a fibonacci function\n",
    "\n",
    "def fib(a):\n",
    "    \n",
    "    x=1\n",
    "    y=1\n",
    "    \n",
    "    for i in range(a):\n",
    "        print (x)\n",
    "        x,y=y,x+y"
   ]
  },
  {
   "cell_type": "code",
   "execution_count": 11,
   "metadata": {},
   "outputs": [
    {
     "name": "stdout",
     "output_type": "stream",
     "text": [
      "1\n",
      "1\n",
      "2\n",
      "3\n",
      "5\n",
      "8\n",
      "13\n",
      "21\n",
      "34\n",
      "55\n"
     ]
    }
   ],
   "source": [
    "fib(10)"
   ]
  },
  {
   "cell_type": "code",
   "execution_count": 32,
   "metadata": {},
   "outputs": [],
   "source": [
    "#prime number function\n",
    "\n",
    "def Prime(p):\n",
    "    \n",
    "    for i in range (2,p):\n",
    "        if p%i==0:\n",
    "            print (\"Divisible Number\")\n",
    "            break\n",
    "            \n",
    "    else:\n",
    "        print (\"Prime Number\")\n",
    "            \n"
   ]
  },
  {
   "cell_type": "code",
   "execution_count": 34,
   "metadata": {},
   "outputs": [
    {
     "name": "stdout",
     "output_type": "stream",
     "text": [
      "Prime Number\n"
     ]
    }
   ],
   "source": [
    "Prime(103)"
   ]
  },
  {
   "cell_type": "code",
   "execution_count": 35,
   "metadata": {},
   "outputs": [
    {
     "name": "stdout",
     "output_type": "stream",
     "text": [
      "Divisible Number\n"
     ]
    }
   ],
   "source": [
    "Prime(106)"
   ]
  },
  {
   "cell_type": "code",
   "execution_count": 44,
   "metadata": {},
   "outputs": [
    {
     "name": "stdout",
     "output_type": "stream",
     "text": [
      "Type  of variable e is <class 'int'>\n",
      "Type of variable d is <class 'str'>\n",
      "Type of variable d is <class 'complex'>\n"
     ]
    }
   ],
   "source": [
    "# show type of a variable\n",
    "\n",
    "e=104\n",
    "d=\"experiment\"\n",
    "c= 10 +2j\n",
    "\n",
    "print (\"Type  of variable e is\",(type(e)))\n",
    "print (\"Type of variable d is\",(type(d)))\n",
    "print (\"Type of variable d is\",(type(c)))\n",
    "\n"
   ]
  },
  {
   "cell_type": "code",
   "execution_count": 50,
   "metadata": {},
   "outputs": [
    {
     "data": {
      "text/plain": [
       "1.0"
      ]
     },
     "execution_count": 50,
     "metadata": {},
     "output_type": "execute_result"
    }
   ],
   "source": [
    "f=27.02\n",
    "s=25\n",
    "\n",
    "f//s"
   ]
  },
  {
   "cell_type": "code",
   "execution_count": 52,
   "metadata": {},
   "outputs": [
    {
     "name": "stdout",
     "output_type": "stream",
     "text": [
      "Enter Value17\n",
      "Enter Value15\n",
      "Addition of w and s 32\n",
      "Subtraction of w and s 2\n",
      "Multiplication of w and s 255\n",
      "Division of w and s 1.1333333333333333\n",
      "Remainder of w and s 2\n",
      "Floar division of w and s 1\n",
      "Exponent divison of w and s 2862423051509815793\n"
     ]
    }
   ],
   "source": [
    "#Python Programm to perform arithmatic function\n",
    "\n",
    "w=int(input(\"Enter Value\"))\n",
    "s=int(input(\"Enter Value\"))\n",
    "\n",
    "print(\"Addition of w and s\",w+s)\n",
    "print(\"Subtraction of w and s\",w-s)\n",
    "print(\"Multiplication of w and s\",w*s)\n",
    "print(\"Division of w and s\",w/s)\n",
    "print (\"Remainder of w and s\",w%s)\n",
    "print (\"Floar division of w and s\", w//s )\n",
    "print (\"Exponent divison of w and s\",w**s)\n"
   ]
  },
  {
   "cell_type": "code",
   "execution_count": 56,
   "metadata": {},
   "outputs": [
    {
     "name": "stdout",
     "output_type": "stream",
     "text": [
      "Enter first number101\n",
      "Enter second number99\n",
      "Enter third number103\n",
      "Largest number is 103.0\n"
     ]
    }
   ],
   "source": [
    "#Write Python Program to find large 3 numbers\n",
    "\n",
    "\n",
    "n1= float(input (\"Enter first number\"))\n",
    "\n",
    "n2= float(input (\"Enter second number\"))\n",
    "\n",
    "n3= float(input (\"Enter third number\"))\n",
    "\n",
    "if n1>=n2 and n1>=n3:\n",
    "    largest=n1\n",
    "elif n2>=n1 and n2>=n3:\n",
    "    largest=n2\n",
    "else:\n",
    "    largest=n3\n",
    "    \n",
    "print (\"Largest number is\",largest)    \n",
    "    \n"
   ]
  },
  {
   "cell_type": "code",
   "execution_count": 72,
   "metadata": {},
   "outputs": [],
   "source": [
    "#sum of square function \n",
    "def sumsquare(ss):\n",
    "    s=0\n",
    "    for j in range(1,ss+1):\n",
    "        s= s + (j*j)\n",
    "    return s"
   ]
  },
  {
   "cell_type": "code",
   "execution_count": 77,
   "metadata": {},
   "outputs": [
    {
     "data": {
      "text/plain": [
       "140"
      ]
     },
     "execution_count": 77,
     "metadata": {},
     "output_type": "execute_result"
    }
   ],
   "source": [
    "sumsquare(7)"
   ]
  },
  {
   "cell_type": "code",
   "execution_count": 84,
   "metadata": {},
   "outputs": [],
   "source": [
    "# Palindrome function. Reversing the string.\n",
    "def pal(t):\n",
    "    return t== t[::-1]\n"
   ]
  },
  {
   "cell_type": "code",
   "execution_count": 87,
   "metadata": {},
   "outputs": [
    {
     "name": "stdout",
     "output_type": "stream",
     "text": [
      "No\n"
     ]
    }
   ],
   "source": [
    "t=\"SAP\"\n",
    "r=pal(t)\n",
    "\n",
    "if r:\n",
    "    print (\"Yes\")\n",
    "    \n",
    "else:\n",
    "    print (\"No\")"
   ]
  },
  {
   "cell_type": "code",
   "execution_count": 92,
   "metadata": {},
   "outputs": [
    {
     "name": "stdout",
     "output_type": "stream",
     "text": [
      "Enter value of a\n",
      "5\n",
      "Enter value of b\n",
      "3\n",
      "Enter value of c\n",
      "4\n",
      "Right Angle Triangle\n"
     ]
    }
   ],
   "source": [
    "# Print whether right angle triangle with pythagoras theorem.\n",
    "\n",
    "a= float(input(\"Enter value of a\\n\"))\n",
    "b= float(input(\"Enter value of b\\n\"))\n",
    "c= float(input(\"Enter value of c\\n\"))\n",
    "\n",
    "\n",
    "if a**2 == b**2 + c**2:\n",
    "        print (\"Right Angle Triangle\")\n",
    "else:\n",
    "    print (\"Its not a right angle triangle\")\n",
    "    \n",
    "        \n",
    "    \n",
    "\n"
   ]
  },
  {
   "cell_type": "code",
   "execution_count": 101,
   "metadata": {},
   "outputs": [
    {
     "name": "stdout",
     "output_type": "stream",
     "text": [
      "-21 -22 -14 "
     ]
    }
   ],
   "source": [
    "# Remove negative numbers from the list.\n",
    "listed=[-21,-22,-14,0,1,2,3,4,5,6]\n",
    "\n",
    "for i in listed:\n",
    "    if i<0:\n",
    "        print (i, end=\" \")\n",
    "        \n",
    "        "
   ]
  },
  {
   "cell_type": "code",
   "execution_count": null,
   "metadata": {},
   "outputs": [],
   "source": [
    "list1=[1,13,14,15,16,22,25]\n",
    "\n",
    "l2=len(list1)\n",
    "l2"
   ]
  },
  {
   "cell_type": "code",
   "execution_count": 4,
   "metadata": {},
   "outputs": [],
   "source": [
    "# function for interchanging items in the list #swap function.\n",
    "def swap(list2):\n",
    "    w= len(list2)\n",
    "    \n",
    "    e= list2[1]\n",
    "    list2[1]= list2[w-2]\n",
    "    list2[w-1]=e\n",
    "    return list2"
   ]
  },
  {
   "cell_type": "code",
   "execution_count": 5,
   "metadata": {},
   "outputs": [
    {
     "name": "stdout",
     "output_type": "stream",
     "text": [
      "[1, 11, 4, 5, 7, 11, 2]\n"
     ]
    }
   ],
   "source": [
    "list2=[1,2,4,5,7,11,12]\n",
    "\n",
    "print (swap(list2))"
   ]
  },
  {
   "cell_type": "code",
   "execution_count": 8,
   "metadata": {},
   "outputs": [],
   "source": [
    "# Percentage function\n",
    "def percentage(p):\n",
    "    markings=((marks[0]+ marks[1] +marks[2]+ marks[3]+ marks[4]+ marks[5]+ marks[6])/600)*100\n",
    "    return markings\n"
   ]
  },
  {
   "cell_type": "code",
   "execution_count": 9,
   "metadata": {},
   "outputs": [
    {
     "name": "stdout",
     "output_type": "stream",
     "text": [
      "77.66666666666666\n"
     ]
    }
   ],
   "source": [
    "markings=[20,40,60,80,90,95,81]\n",
    "percent1=percentage(marks)\n",
    "print(percent1)\n"
   ]
  },
  {
   "cell_type": "code",
   "execution_count": 14,
   "metadata": {},
   "outputs": [],
   "source": [
    "#Factorial Function.\n",
    "def fact(f):\n",
    "    for i in range (f):\n",
    "        if f==0 or f==1:\n",
    "            return 1\n",
    "            \n",
    "\n",
    "        return f* fact(f-1)\n"
   ]
  },
  {
   "cell_type": "code",
   "execution_count": 24,
   "metadata": {},
   "outputs": [
    {
     "data": {
      "text/plain": [
       "120"
      ]
     },
     "execution_count": 24,
     "metadata": {},
     "output_type": "execute_result"
    }
   ],
   "source": [
    "fact(5)"
   ]
  }
 ],
 "metadata": {
  "kernelspec": {
   "display_name": "Python 3",
   "language": "python",
   "name": "python3"
  },
  "language_info": {
   "codemirror_mode": {
    "name": "ipython",
    "version": 3
   },
   "file_extension": ".py",
   "mimetype": "text/x-python",
   "name": "python",
   "nbconvert_exporter": "python",
   "pygments_lexer": "ipython3",
   "version": "3.8.5"
  }
 },
 "nbformat": 4,
 "nbformat_minor": 4
}
