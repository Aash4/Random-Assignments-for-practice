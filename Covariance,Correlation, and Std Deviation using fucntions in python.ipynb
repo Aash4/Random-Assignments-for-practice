{
 "cells": [
  {
   "cell_type": "code",
   "execution_count": 100,
   "metadata": {},
   "outputs": [],
   "source": [
    "def covariance(x,y):\n",
    "    \n",
    "    # calcuating mean\n",
    "    mean_x= (sum(x)/len(x))\n",
    "    mean_y= (sum(y)/len(y))\n",
    "    # subtracting each elements from mean\n",
    "    sub_x= [i- mean_x for i in x]\n",
    "    sub_y= [i -mean_y for i in y]\n",
    "    \n",
    "    # calculating numerator\n",
    "    numerator= sum([(sub_x[i]*sub_y[i]) for  i in range (len(sub_y))])\n",
    "    \n",
    "    denominator= len(y)-1\n",
    "    #covriance \n",
    "    cov= numerator/denominator\n",
    "    return cov\n",
    "\n",
    "x= [10,20,30,40,50]\n",
    "y= [20,30,40,50,60] "
   ]
  },
  {
   "cell_type": "code",
   "execution_count": 101,
   "metadata": {},
   "outputs": [
    {
     "data": {
      "text/plain": [
       "250.0"
      ]
     },
     "execution_count": 101,
     "metadata": {},
     "output_type": "execute_result"
    }
   ],
   "source": [
    "covariance(x,y)\n"
   ]
  },
  {
   "cell_type": "code",
   "execution_count": 94,
   "metadata": {},
   "outputs": [],
   "source": [
    "def corr (c,d):\n",
    "    #mean\n",
    "    mean_c= sum(c)/float(len(c))\n",
    "    mean_d= sum(c)/float(len(d))\n",
    "    \n",
    "    # subtracting each elements from mean\n",
    "    sub_c= [i- mean_c for i in c]\n",
    "    sub_d= [i-mean_d for i in d]\n",
    "    \n",
    "    #numerator\n",
    "    numerator= sum([(sub_c[i]*sub_d[i]) for  i in range (len(sub_c))])\n",
    "    \n",
    "    c_square= sum(map(lambda m:m**2,sub_c))\n",
    "    d_square= sum(map(lambda n:n**2,sub_d))   \n",
    "    \n",
    "    \n",
    "    import math \n",
    "    #denominaotr\n",
    "    denominatorcorr= math.sqrt(c_square * d_square)\n",
    "    #karl pearson correlation\n",
    "    correlation=numerator/denominatorcorr\n",
    "    return correlation\n",
    "\n",
    "c=(20,30,40,50,60)\n",
    "d=(30,40,50,60,70)"
   ]
  },
  {
   "cell_type": "code",
   "execution_count": 95,
   "metadata": {},
   "outputs": [
    {
     "data": {
      "text/plain": [
       "0.8164965809277261"
      ]
     },
     "execution_count": 95,
     "metadata": {},
     "output_type": "execute_result"
    }
   ],
   "source": [
    "corr (c,d)\n",
    "\n",
    "\n"
   ]
  },
  {
   "cell_type": "code",
   "execution_count": 111,
   "metadata": {},
   "outputs": [],
   "source": [
    "def stddev(s):\n",
    "    \n",
    "    # mean\n",
    "    mean_s= sum(s)/float(len(s))\n",
    "    \n",
    "    #subtracting each element from mean\n",
    "    fd= [e-mean_s for e in c]\n",
    "    \n",
    "    # numerator\n",
    "    \n",
    "    num= sum(map(lambda t: t**2,fd))\n",
    "    # denominator\n",
    "    h = len(s)-1\n",
    "    \n",
    "    # applying square root as per std dev formula\n",
    "    import math \n",
    "    deviation= math.sqrt(num/h)\n",
    "    return deviation        \n",
    "\n",
    "s=(10,20,30,40,50,60,70,99,199,299,4234,242,553)"
   ]
  },
  {
   "cell_type": "code",
   "execution_count": 112,
   "metadata": {},
   "outputs": [
    {
     "data": {
      "text/plain": [
       "267.5902214715981"
      ]
     },
     "execution_count": 112,
     "metadata": {},
     "output_type": "execute_result"
    }
   ],
   "source": [
    "stddev(s)"
   ]
  }
 ],
 "metadata": {
  "kernelspec": {
   "display_name": "Python 3",
   "language": "python",
   "name": "python3"
  },
  "language_info": {
   "codemirror_mode": {
    "name": "ipython",
    "version": 3
   },
   "file_extension": ".py",
   "mimetype": "text/x-python",
   "name": "python",
   "nbconvert_exporter": "python",
   "pygments_lexer": "ipython3",
   "version": "3.8.5"
  }
 },
 "nbformat": 4,
 "nbformat_minor": 4
}
